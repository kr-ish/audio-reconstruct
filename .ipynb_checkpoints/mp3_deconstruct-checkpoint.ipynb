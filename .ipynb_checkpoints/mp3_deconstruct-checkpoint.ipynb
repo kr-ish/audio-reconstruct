{
 "cells": [
  {
   "cell_type": "code",
   "execution_count": null,
   "metadata": {
    "collapsed": false
   },
   "outputs": [],
   "source": [
    "import sys\n",
    "import os\n",
    "#import pygame as pg\n",
    "from pydub import AudioSegment #only available on  linux"
   ]
  },
  {
   "cell_type": "code",
   "execution_count": null,
   "metadata": {
    "collapsed": true
   },
   "outputs": [],
   "source": [
    "def deconstruct_pg(in_file, chunk_size):\n",
    "    '''\n",
    "    deconstructs input file into chunks of specified size in seconds\n",
    "    '''\n",
    "    freq = 44100 # sample rate\n",
    "    #bitsize = -16 # unsgined 16 bit\n",
    "    #channels = 2 # 1 = mono, 2 = stereo\n",
    "    #buffer = 2048 # number of samples\n",
    "    pg.mixer.init(freq)\n",
    "    #pg.mixer.init(freq,bitsize,channels,buffer)\n",
    "    try:\n",
    "        pg.mixer.music.load(in_file)\n",
    "        print(\"File {} loaded\".format(in_file))\n",
    "    except pg.error:\n",
    "        print(\"File {} not found! ({})\".format(in_file, pg.get_error()))\n",
    "        return\n"
   ]
  },
  {
   "cell_type": "code",
   "execution_count": 33,
   "metadata": {
    "collapsed": false
   },
   "outputs": [],
   "source": [
    "def deconstruct(in_file, chunk_size):\n",
    "    '''\n",
    "    deconstructs input file into chunks of specified size in seconds\n",
    "    '''\n",
    "    \n",
    "    try:\n",
    "        song = AudioSegment.from_mp3(in_file)\n",
    "        print(\"File {} loaded\".format(in_file))\n",
    "    except:\n",
    "        print(\"File {} not found!\".format(in_file))\n",
    "        return\n",
    "    \n",
    "    start = 0\n",
    "    for end in range(chunk_size,len(song),chunk_size):\n",
    "        chunk = song[start:end]\n",
    "        chunk.export(in_file+'_'+str(end/chunk_size), format = 'mp3')\n",
    "        start = end\n"
   ]
  },
  {
   "cell_type": "code",
   "execution_count": 32,
   "metadata": {
    "collapsed": false
   },
   "outputs": [
    {
     "name": "stdout",
     "output_type": "stream",
     "text": [
      "File data/TheoryWars.mp3 loaded\n"
     ]
    }
   ],
   "source": [
    "#take all files in a folder\n",
    "#in_dir = str(sys.argv[1])\n",
    "#out_dir = in_dir + 'out'\n",
    "\n",
    "#in_file = str(sys.argv[1])\n",
    "in_file = 'data/TheoryWars.mp3'\n",
    "#artist = 'Pop Weirdos'\n",
    "chunk_size = 500 # in milliseconds\n",
    "\n",
    "deconstruct(in_file, chunk_size)"
   ]
  },
  {
   "cell_type": "code",
   "execution_count": 29,
   "metadata": {
    "collapsed": false
   },
   "outputs": [
    {
     "data": {
      "text/plain": [
       "'TheoryWars.mp3.mp3'"
      ]
     },
     "execution_count": 29,
     "metadata": {},
     "output_type": "execute_result"
    }
   ],
   "source": []
  }
 ],
 "metadata": {
  "anaconda-cloud": {},
  "kernelspec": {
   "display_name": "Python 2",
   "language": "python",
   "name": "python2"
  },
  "language_info": {
   "codemirror_mode": {
    "name": "ipython",
    "version": 2
   },
   "file_extension": ".py",
   "mimetype": "text/x-python",
   "name": "python",
   "nbconvert_exporter": "python",
   "pygments_lexer": "ipython2",
   "version": "2.7.11"
  }
 },
 "nbformat": 4,
 "nbformat_minor": 0
}
